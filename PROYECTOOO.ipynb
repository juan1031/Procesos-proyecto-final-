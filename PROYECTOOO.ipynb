{
 "cells": [
  {
   "cell_type": "code",
   "execution_count": 5,
   "id": "8f3c31d7",
   "metadata": {
    "scrolled": true
   },
   "outputs": [
    {
     "name": "stdout",
     "output_type": "stream",
     "text": [
      "Ingrese el numero de jugadores:\n",
      " 5\n",
      "Ingrese el valor inicial de la apuesta:\n",
      " 100\n"
     ]
    }
   ],
   "source": [
    "import random as r\n",
    "def dado():\n",
    "    a = r.randrange(1,7)\n",
    "    return a\n",
    "\n",
    "cant_j = int(input('Ingrese el numero de jugadores:\\n '))\n",
    "apuesta = int(input('Ingrese el valor inicial de la apuesta:\\n '))\n",
    "if apuesta < 100:\n",
    "    j = int(input('Error, no es válido. Ingrese un nuevo valor:\\n'))\n",
    "\n",
    "                \n",
    "def pozo_inicial():\n",
    "    if apuesta >= 100:\n",
    "        cuenta1 = cant_j * apuesta\n",
    "        return cuenta1  "
   ]
  },
  {
   "cell_type": "code",
   "execution_count": null,
   "id": "97314293",
   "metadata": {},
   "outputs": [
    {
     "name": "stdout",
     "output_type": "stream",
     "text": [
      "jugador 1\n",
      "Primer lanzamiento:  5\n",
      "Ingrese el valor a apostar: 100\n",
      "Segundo lanzamiento:  6\n",
      "Pozo: 375.0\n",
      "jugador 2\n",
      "Primer lanzamiento:  2\n",
      "Ingrese el valor a apostar: 100\n",
      "Segundo lanzamiento:  5\n",
      "Pozo: 256.25\n",
      "jugador 3\n",
      "Primer lanzamiento:  1\n",
      "Pozo: 356.25\n",
      "jugador 4\n",
      "Primer lanzamiento:  1\n",
      "Pozo: 456.25\n",
      "jugador 5\n",
      "Primer lanzamiento:  5\n",
      "Ingrese el valor a apostar: 100\n",
      "Segundo lanzamiento:  4\n",
      "Pozo: 556.25\n",
      " \n",
      "jugador 1\n",
      "Primer lanzamiento:  6\n",
      "Pozo: 428.4375\n",
      "jugador 2\n",
      "Primer lanzamiento:  4\n"
     ]
    }
   ],
   "source": [
    "def juego(): \n",
    "    \n",
    "    pozo = int(pozo_inicial())\n",
    "    contador = 0\n",
    "    \n",
    "    while pozo>0:\n",
    "        x = dado()\n",
    "        y = dado()\n",
    "        contador+=1\n",
    "        print('jugador',contador)\n",
    "        print('Primer lanzamiento: ',x)\n",
    "        comisión = 0.05\n",
    "        casino = 0\n",
    "        if x == 1:\n",
    "            pozo += apuesta\n",
    "            print ('Pozo:',pozo)\n",
    "        if x == 6:\n",
    "            casino = pozo*comisión\n",
    "            pozo = (pozo-casino)-apuesta\n",
    "            print ('Pozo:',pozo)\n",
    "        if 1<x<6:\n",
    "            apuestaa = int(input('Ingrese el valor a apostar: '))\n",
    "            print ('Segundo lanzamiento: ',y)\n",
    "            if x<y:\n",
    "                casino = pozo*comisión\n",
    "                pozo = (pozo-casino)-apuesta\n",
    "                print('Pozo:',pozo)\n",
    "            if x>=y:\n",
    "                pozo = pozo+apuestaa\n",
    "                print('Pozo:',pozo)\n",
    "        \n",
    "        if contador>=cant_j:\n",
    "            contador = 0\n",
    "            print(' ')\n",
    "\n",
    "juego()\n"
   ]
  },
  {
   "cell_type": "markdown",
   "id": "8485d615",
   "metadata": {},
   "source": [
    "***"
   ]
  }
 ],
 "metadata": {
  "kernelspec": {
   "display_name": "Python 3 (ipykernel)",
   "language": "python",
   "name": "python3"
  },
  "language_info": {
   "codemirror_mode": {
    "name": "ipython",
    "version": 3
   },
   "file_extension": ".py",
   "mimetype": "text/x-python",
   "name": "python",
   "nbconvert_exporter": "python",
   "pygments_lexer": "ipython3",
   "version": "3.9.7"
  }
 },
 "nbformat": 4,
 "nbformat_minor": 5
}
