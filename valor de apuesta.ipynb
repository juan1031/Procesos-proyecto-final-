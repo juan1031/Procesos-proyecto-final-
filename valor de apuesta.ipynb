{
 "cells": [
  {
   "cell_type": "code",
   "execution_count": 8,
   "id": "8f3c31d7",
   "metadata": {},
   "outputs": [
    {
     "name": "stdout",
     "output_type": "stream",
     "text": [
      "Ingrese el numero de jugadores:\n",
      " 6\n",
      "Ingrese el valor inicial de la apuesta:\n",
      " 100\n",
      "600\n"
     ]
    }
   ],
   "source": [
    "cant_j = int(input('Ingrese el numero de jugadores:\\n '))\n",
    "apuesta = int(input('Ingrese el valor inicial de la apuesta:\\n '))\n",
    "if apuesta < 100:\n",
    "    j = int(input('Error, no es válido. Ingrese un nuevo valor:\\n'))\n",
    "if j >=100:\n",
    "    fijo= j\n",
    "                \n",
    "def cuentica():\n",
    "    if apuesta >= 100:\n",
    "        cuenta1 = cant_j * apuesta\n",
    "        print(int(cuenta1))\n",
    "    else: \n",
    "        print(int(cant_j*fijo))        \n",
    "cuentica()"
   ]
  },
  {
   "cell_type": "code",
   "execution_count": null,
   "id": "cc542f87",
   "metadata": {},
   "outputs": [],
   "source": [
    "c = int(input('Ingrese el numero de jugadores: '))\n",
    "\n",
    "x = int(input('Ingrese el valor inicial de la apuesta: '))\n",
    "\n",
    "if x < 100:\n",
    "    print('Error, el valor mínimo debe ser $100')\n",
    "m = c*x     \n",
    "\n",
    "def pocito():\n",
    "    comisión = 0.05\n",
    "    pozo1 = x*c\n",
    "    if dado() == 1 or dado() == 6:  #Esta mal... porque las condiciones con 1 y 6 son diferentes ¿por qué? sencillo, porque si es 1 se acaba el juego para el jugador que haya sacado 1, y si es 6 se retribuye la apuesta inicial.\n",
    "        a = pozo1*comisión\n",
    "        pozo2 = pozo1-a \n",
    "        pozo3 = (2*x)-pozo2\n",
    "        return pozo3\n",
    "pocito()"
   ]
  }
 ],
 "metadata": {
  "kernelspec": {
   "display_name": "Python 3 (ipykernel)",
   "language": "python",
   "name": "python3"
  },
  "language_info": {
   "codemirror_mode": {
    "name": "ipython",
    "version": 3
   },
   "file_extension": ".py",
   "mimetype": "text/x-python",
   "name": "python",
   "nbconvert_exporter": "python",
   "pygments_lexer": "ipython3",
   "version": "3.9.7"
  }
 },
 "nbformat": 4,
 "nbformat_minor": 5
}
