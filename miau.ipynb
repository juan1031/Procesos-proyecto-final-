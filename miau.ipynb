{
 "cells": [
  {
   "cell_type": "code",
   "execution_count": 95,
   "id": "8f3c31d7",
   "metadata": {
    "scrolled": true
   },
   "outputs": [
    {
     "name": "stdout",
     "output_type": "stream",
     "text": [
      "Ingrese el numero de jugadores:\n",
      " 10\n",
      "Ingrese el valor inicial de la apuesta:\n",
      " 200\n",
      "El pozo inicial es:  2000\n",
      "2000\n",
      "Ingrese el valor a apostar: 500\n",
      "(2, 1, 2500)\n"
     ]
    }
   ],
   "source": [
    "import random as r\n",
    "def dado():\n",
    "    a = r.randrange(1,7)\n",
    "    return a\n",
    "dado()\n",
    "\n",
    "cant_j = int(input('Ingrese el numero de jugadores:\\n '))\n",
    "apuesta = int(input('Ingrese el valor inicial de la apuesta:\\n '))\n",
    "if apuesta < 100:\n",
    "    j = int(input('Error, no es válido. Ingrese un nuevo valor:\\n'))\n",
    "\n",
    "                \n",
    "def pozo_inicial():\n",
    "    if apuesta >= 100:\n",
    "        cuenta1 = cant_j * apuesta\n",
    "        print ('El pozo inicial es: ',int(cuenta1))\n",
    "        return cuenta1\n",
    "    else: \n",
    "        print('El pozo inicial es: ',int(cant_j*j))     \n",
    "\n",
    "def juego(): \n",
    "    x = dado()\n",
    "    y = dado()\n",
    "    apuestaa = int(input('Ingrese el valor a apostar: '))\n",
    "    pozo_inicial = cant_j * apuesta\n",
    "    \n",
    "    if x == 1:\n",
    "        pozo = int(pozo_inicial+apuestaa)\n",
    "        return x,pozo\n",
    "    if x == 6:\n",
    "        pozo = int(pozo_inicial-apuestaa)\n",
    "        return x,pozo\n",
    "    if 1<x<6:\n",
    "        if x<y:\n",
    "            pozo = int(pozo_inicial-apuestaa)\n",
    "            return x,y,pozo\n",
    "        if x == y:\n",
    "            pozo = int(pozo_inicial+apuestaa)\n",
    "            return x,y,pozo\n",
    "        if x>y:\n",
    "            pozo = int(pozo_inicial+apuestaa)\n",
    "            return x,y,pozo\n",
    "    \n",
    "print(pozo_inicial())\n",
    "print(juego())"
   ]
  },
  {
   "cell_type": "code",
   "execution_count": null,
   "id": "97314293",
   "metadata": {},
   "outputs": [],
   "source": [
    "\n"
   ]
  },
  {
   "cell_type": "markdown",
   "id": "8485d615",
   "metadata": {},
   "source": [
    "***"
   ]
  },
  {
   "cell_type": "code",
   "execution_count": 21,
   "id": "f5c26a0a",
   "metadata": {},
   "outputs": [],
   "source": [
    "def juego ():\n",
    "    x = 'primer lanzamiento', dado()\n",
    "    y = 'segundo lanzamiento', dado()\n",
    "    apuestaa = int(input('Ingrese el valor a apostar: '))\n",
    "    \n",
    "    if x == 1:\n",
    "        pozo = cuentica()+apuestaa\n",
    "        return pozo\n",
    "    if x == 6:\n",
    "        pozo = cuentica()-apuestaa\n",
    "        return pozo\n",
    "    if x == 2 or x == 3 or x == 4 or x == 5:\n",
    "        return y"
   ]
  },
  {
   "cell_type": "code",
   "execution_count": 22,
   "id": "346d86b9",
   "metadata": {},
   "outputs": [
    {
     "name": "stdout",
     "output_type": "stream",
     "text": [
      "Ingrese el valor a apostar: 100\n"
     ]
    }
   ],
   "source": [
    "juego()"
   ]
  },
  {
   "cell_type": "code",
   "execution_count": null,
   "id": "ef47ca65",
   "metadata": {},
   "outputs": [],
   "source": []
  },
  {
   "cell_type": "code",
   "execution_count": null,
   "id": "1d71fa7f",
   "metadata": {},
   "outputs": [],
   "source": []
  },
  {
   "cell_type": "code",
   "execution_count": null,
   "id": "0cd058ff",
   "metadata": {},
   "outputs": [],
   "source": []
  },
  {
   "cell_type": "code",
   "execution_count": null,
   "id": "27d3681c",
   "metadata": {},
   "outputs": [],
   "source": []
  },
  {
   "cell_type": "code",
   "execution_count": 8,
   "id": "cc542f87",
   "metadata": {},
   "outputs": [
    {
     "name": "stdout",
     "output_type": "stream",
     "text": [
      "Ingrese el numero de jugadores: 3\n",
      "Ingrese el valor inicial de la apuesta: 100\n"
     ]
    }
   ],
   "source": [
    "c = int(input('Ingrese el numero de jugadores: '))\n",
    "\n",
    "x = int(input('Ingrese el valor inicial de la apuesta: '))\n",
    "\n",
    "if x < 100:\n",
    "    print('Error, el valor mínimo debe ser $100')\n",
    "m = c*x     \n",
    "\n",
    "def pocito():\n",
    "    comisión = 0.05\n",
    "    pozo1 = x*c\n",
    "    if dado() == 1 or dado() == 6:  #Esta mal... porque las condiciones con 1 y 6 son diferentes ¿por qué? sencillo, porque si es 1 se acaba el juego para el jugador que haya sacado 1, y si es 6 se retribuye la apuesta inicial.\n",
    "        a = pozo1*comisión\n",
    "        pozo2 = pozo1-a \n",
    "        pozo3 = (2*x)-pozo2\n",
    "        return pozo3\n",
    "pocito()"
   ]
  },
  {
   "cell_type": "code",
   "execution_count": null,
   "id": "f659f154",
   "metadata": {},
   "outputs": [],
   "source": []
  }
 ],
 "metadata": {
  "kernelspec": {
   "display_name": "Python 3 (ipykernel)",
   "language": "python",
   "name": "python3"
  },
  "language_info": {
   "codemirror_mode": {
    "name": "ipython",
    "version": 3
   },
   "file_extension": ".py",
   "mimetype": "text/x-python",
   "name": "python",
   "nbconvert_exporter": "python",
   "pygments_lexer": "ipython3",
   "version": "3.9.7"
  }
 },
 "nbformat": 4,
 "nbformat_minor": 5
}
