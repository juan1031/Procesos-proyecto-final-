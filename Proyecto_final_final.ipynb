{
 "cells": [
  {
   "cell_type": "code",
   "execution_count": 9,
   "id": "b6ee7e21",
   "metadata": {},
   "outputs": [],
   "source": [
    "import casi_final2 as g"
   ]
  },
  {
   "cell_type": "markdown",
   "id": "7c0b8629",
   "metadata": {},
   "source": [
    "<h1 align=center style=\"Resourcefulness\"><span style=\"color:#00a3ad\">REGLAS DEL JUEGO</span></h1>\n",
    "<!-- <h2 align=center style=\"font-Resourcefulness\"><span style=\"color:#00a3ad\">Tema: <span></h2> -->\n",
    "<!-- <h2 align=center style=\"font-OLD Resourcefulness\"><span style=\"color:#00a3ad\">Profesor: </span></h2> -->\n",
    "\n",
    "____\n",
    "\n",
    "<font face = \"Resourcefulness\">\n",
    "\n",
    "1. El juego es para mínimo dos jugadores \n",
    "\n",
    "2. Fijar cuál va hacer el valor inicial de la apuesta.(mínimo $100) \n",
    "\n",
    "3. Cada jugador debe apostar el valor fijado anteriormente, y la sumatoria de este será el pozo.\n",
    "\n",
    "4. El jugador debe lanzar el dado, y según su lanzamiento, puede pasar lo siguiente:\n",
    "    \n",
    "    1) Si el resultado de su lanzamiento es 1, el jugador pierde lo apostado, y debe \n",
    "    dar el turno al siguiente jugador\n",
    "      \n",
    "    2) Si el resultado de su lanzamiento es 6, puede retirar lo que apostó anteriormente. \n",
    "    Cada vez que reclame su premio, el casino gana una comisión del 5% \n",
    "      \n",
    "    3) En el caso de el resultado este entre 2 y 5 , el jugador debe apostar como mínimo \n",
    "    lo fijado al inicio, y como máximo la cantidad total que se encuentre en el pozo en \n",
    "    ese momento. Y ahora debe realizar un segundo lanzamiento en el cual se determina que el nuevo resultado debe ser\n",
    "    mayor a el resultado anterior, esto para ganar lo apostado ,si es el caso contrario pierde lo apostado    \n",
    "\n",
    "\n",
    "5. El juego terminará cuando el pozo sea menor que 0 \n",
    "\n",
    "</font>"
   ]
  },
  {
   "cell_type": "code",
   "execution_count": 10,
   "id": "33b3995c",
   "metadata": {},
   "outputs": [
    {
     "name": "stdout",
     "output_type": "stream",
     "text": [
      "Ingrese el numero de jugadores:\n",
      " 6\n",
      "Ingrese el valor inicial de la apuesta:\n",
      " 1000\n",
      "{1: 0, 2: 0, 3: 0, 4: 0, 5: 0, 6: 0}\n",
      " \n",
      "jugador 1\n",
      "Primer lanzamiento:  3\n",
      "Ingrese el valor a apostar que no sea mayor a 5700 y a 0: 3000\n",
      "Segundo lanzamiento:  3\n",
      "Perdiste la apuesta\n",
      "Pozo: 9000\n",
      " \n",
      "{1: -3000, 2: 0, 3: 0, 4: 0, 5: 0}\n",
      " \n",
      "jugador 2\n",
      "Primer lanzamiento:  6\n",
      "Ganaste la apuesta\n",
      "Pozo: 8000\n",
      " \n"
     ]
    },
    {
     "ename": "KeyError",
     "evalue": "6",
     "output_type": "error",
     "traceback": [
      "\u001b[1;31m---------------------------------------------------------------------------\u001b[0m",
      "\u001b[1;31mKeyError\u001b[0m                                  Traceback (most recent call last)",
      "\u001b[1;32m~\\AppData\\Local\\Temp/ipykernel_3796/154838571.py\u001b[0m in \u001b[0;36m<module>\u001b[1;34m\u001b[0m\n\u001b[1;32m----> 1\u001b[1;33m \u001b[0mg\u001b[0m\u001b[1;33m.\u001b[0m\u001b[0mjuego\u001b[0m\u001b[1;33m(\u001b[0m\u001b[1;33m)\u001b[0m\u001b[1;33m\u001b[0m\u001b[1;33m\u001b[0m\u001b[0m\n\u001b[0m",
      "\u001b[1;32m~\\OneDrive - Universidad Externado de Colombia\\Ciencia de datos\\Programacion I\\Proyecto-1-main\\Proyecto-1-main\\casi_final2.py\u001b[0m in \u001b[0;36mjuego\u001b[1;34m()\u001b[0m\n\u001b[0;32m     85\u001b[0m         \u001b[0mprint\u001b[0m\u001b[1;33m(\u001b[0m\u001b[1;34m' '\u001b[0m\u001b[1;33m)\u001b[0m\u001b[1;33m\u001b[0m\u001b[1;33m\u001b[0m\u001b[0m\n\u001b[0;32m     86\u001b[0m \u001b[1;33m\u001b[0m\u001b[0m\n\u001b[1;32m---> 87\u001b[1;33m         \u001b[1;32mif\u001b[0m \u001b[0ml\u001b[0m\u001b[1;33m[\u001b[0m\u001b[0mjugador\u001b[0m\u001b[1;33m]\u001b[0m \u001b[1;33m==\u001b[0m \u001b[1;36m0\u001b[0m\u001b[1;33m:\u001b[0m\u001b[1;33m\u001b[0m\u001b[1;33m\u001b[0m\u001b[0m\n\u001b[0m\u001b[0;32m     88\u001b[0m             \u001b[0ml\u001b[0m\u001b[1;33m.\u001b[0m\u001b[0mpopitem\u001b[0m\u001b[1;33m(\u001b[0m\u001b[1;33m)\u001b[0m\u001b[1;33m\u001b[0m\u001b[1;33m\u001b[0m\u001b[0m\n\u001b[0;32m     89\u001b[0m \u001b[1;33m\u001b[0m\u001b[0m\n",
      "\u001b[1;31mKeyError\u001b[0m: 6"
     ]
    }
   ],
   "source": [
    "g.juego()"
   ]
  },
  {
   "cell_type": "code",
   "execution_count": null,
   "id": "9d95f241",
   "metadata": {},
   "outputs": [],
   "source": []
  }
 ],
 "metadata": {
  "kernelspec": {
   "display_name": "Python 3 (ipykernel)",
   "language": "python",
   "name": "python3"
  },
  "language_info": {
   "codemirror_mode": {
    "name": "ipython",
    "version": 3
   },
   "file_extension": ".py",
   "mimetype": "text/x-python",
   "name": "python",
   "nbconvert_exporter": "python",
   "pygments_lexer": "ipython3",
   "version": "3.9.7"
  }
 },
 "nbformat": 4,
 "nbformat_minor": 5
}
