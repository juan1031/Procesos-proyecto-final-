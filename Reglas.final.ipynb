{
 "cells": [
  {
   "cell_type": "markdown",
   "id": "64cc4ae1",
   "metadata": {},
   "source": [
    "# Reglas del juego\n",
    "\n",
    "1. El juego es para mínimo dos jugadores \n",
    "\n",
    "2.Fijar cuál va hacer el valor inicial de la apuesta.(mínimo $100)\n",
    "\n",
    "3.Cada jugador debe apostar el valor fijado anteriormente, y la sumatoria de este será el pozo.\n",
    "\n",
    "4.El jugador debe lanzar el dado, y según su lanzamiento, puede pasar lo siguiente:\n",
    "\n",
    "    a)Si el resultado de su lanzamiento es 1, el jugador pierde lo apostado, y debe \n",
    "    dar el turno al siguiente jugador\n",
    "      \n",
    "    b)Si el resultado de su lanzamiento es 6, puede retirar lo que apostó anteriormente. \n",
    "    Cada vez que reclame su premio, el casino gana una comisión del 5% \n",
    "      \n",
    "    c)En el caso de el resultado este entre 2 y 5 , el jugador debe apostar como mínimo \n",
    "    lo fijado al inicio, y como máximo la cantidad total que se encuentre en el pozo en \n",
    "    ese momento. Y ahora debe realizar un segundo lanzamiento en el cual se determina que el nuevo resultado debe ser mayor a el resultado anterior, \n",
    "    esto para ganar lo apostado ,si es el caso contrario pierde lo apostado    \n",
    " 5. el juego terminara cuando el pozo sea menor que 0 "
   ]
  },
  {
   "cell_type": "code",
   "execution_count": null,
   "id": "76fd5a1e",
   "metadata": {},
   "outputs": [],
   "source": []
  }
 ],
 "metadata": {
  "kernelspec": {
   "display_name": "Python 3 (ipykernel)",
   "language": "python",
   "name": "python3"
  },
  "language_info": {
   "codemirror_mode": {
    "name": "ipython",
    "version": 3
   },
   "file_extension": ".py",
   "mimetype": "text/x-python",
   "name": "python",
   "nbconvert_exporter": "python",
   "pygments_lexer": "ipython3",
   "version": "3.9.7"
  }
 },
 "nbformat": 4,
 "nbformat_minor": 5
}
