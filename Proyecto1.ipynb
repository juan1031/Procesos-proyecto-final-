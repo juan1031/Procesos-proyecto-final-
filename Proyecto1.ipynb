{
 "cells": [
  {
   "cell_type": "markdown",
   "metadata": {},
   "source": [
    "# CASINO "
   ]
  },
  {
   "cell_type": "markdown",
   "metadata": {},
   "source": [
    "## REGLAS :)"
   ]
  },
  {
   "cell_type": "markdown",
   "metadata": {},
   "source": [
    "1. Cuando el dado "
   ]
  },
  {
   "cell_type": "code",
   "execution_count": null,
   "metadata": {},
   "outputs": [],
   "source": []
  },
  {
   "cell_type": "code",
   "execution_count": 2,
   "metadata": {},
   "outputs": [],
   "source": [
    "import random as r"
   ]
  },
  {
   "cell_type": "code",
   "execution_count": 21,
   "metadata": {},
   "outputs": [
    {
     "data": {
      "text/plain": [
       "6"
      ]
     },
     "execution_count": 21,
     "metadata": {},
     "output_type": "execute_result"
    }
   ],
   "source": [
    "def dado():\n",
    "    a = r.randrange(1,7)\n",
    "    return a\n",
    "dado()\n"
   ]
  },
  {
   "cell_type": "code",
   "execution_count": 24,
   "metadata": {},
   "outputs": [
    {
     "name": "stdout",
     "output_type": "stream",
     "text": [
      "Ingrese el numero de jugadores: 3\n",
      "Ingrese el valor inicial de la apuesta: 100\n"
     ]
    }
   ],
   "source": [
    "\n",
    "c = int(input('Ingrese el numero de jugadores: '))\n",
    "\n",
    "x = int(input('Ingrese el valor inicial de la apuesta: '))\n",
    "if x < 100:\n",
    "    print('Error, el valor mínimo debe ser $100')\n",
    "\n",
    "def pocito():\n",
    "    comisión = 0.05\n",
    "    pozo1 = x*c\n",
    "    if dado() == 1 or dado() == 6:\n",
    "        a = pozo1*comisión\n",
    "        pozo2 = pozo1-a \n",
    "        pozo3 = (2*x)-pozo2\n",
    "        return pozo3\n",
    "pocito()"
   ]
  },
  {
   "cell_type": "markdown",
   "metadata": {},
   "source": [
    "## Dado"
   ]
  },
  {
   "cell_type": "code",
   "execution_count": 99,
   "metadata": {},
   "outputs": [
    {
     "data": {
      "text/plain": [
       "3"
      ]
     },
     "execution_count": 99,
     "metadata": {},
     "output_type": "execute_result"
    }
   ],
   "source": [
    "d = dado()\n",
    "d"
   ]
  },
  {
   "cell_type": "markdown",
   "metadata": {},
   "source": [
    "## Jugadores"
   ]
  },
  {
   "cell_type": "code",
   "execution_count": 101,
   "metadata": {},
   "outputs": [
    {
     "name": "stdout",
     "output_type": "stream",
     "text": [
      "Ingrese el numero de jugadores: 22\n"
     ]
    }
   ],
   "source": [
    "c = int(input('Ingrese el numero de jugadores: '))"
   ]
  },
  {
   "cell_type": "markdown",
   "metadata": {},
   "source": [
    "## Valor inicial de la apuesta"
   ]
  },
  {
   "cell_type": "code",
   "execution_count": 115,
   "metadata": {
    "scrolled": true
   },
   "outputs": [
    {
     "name": "stdout",
     "output_type": "stream",
     "text": [
      "Ingrese el valor inicial de la apuesta: 100\n"
     ]
    }
   ],
   "source": [
    "x = int(input('Ingrese el valor inicial de la apuesta: '))\n",
    "if x < 100:\n",
    "    print('Error, el valor mínimo debe ser $100')\n",
    "        \n"
   ]
  },
  {
   "cell_type": "markdown",
   "metadata": {},
   "source": [
    "## Pozo"
   ]
  },
  {
   "cell_type": "code",
   "execution_count": 121,
   "metadata": {},
   "outputs": [],
   "source": [
    "for i in str(x):\n",
    "    comisión = 0.05\n",
    "    pozo1 = int(x*c)\n",
    "    if d == 1 or d == 6:\n",
    "        a = pozo1*comisión\n",
    "        pozo2 = pozo1-a \n",
    "        pozo = int((2*x)-pozo2)\n",
    "        print('ganaste :)')\n",
    "    "
   ]
  },
  {
   "cell_type": "code",
   "execution_count": null,
   "metadata": {},
   "outputs": [],
   "source": []
  }
 ],
 "metadata": {
  "kernelspec": {
   "display_name": "Python 3 (ipykernel)",
   "language": "python",
   "name": "python3"
  },
  "language_info": {
   "codemirror_mode": {
    "name": "ipython",
    "version": 3
   },
   "file_extension": ".py",
   "mimetype": "text/x-python",
   "name": "python",
   "nbconvert_exporter": "python",
   "pygments_lexer": "ipython3",
   "version": "3.9.7"
  }
 },
 "nbformat": 4,
 "nbformat_minor": 4
}
